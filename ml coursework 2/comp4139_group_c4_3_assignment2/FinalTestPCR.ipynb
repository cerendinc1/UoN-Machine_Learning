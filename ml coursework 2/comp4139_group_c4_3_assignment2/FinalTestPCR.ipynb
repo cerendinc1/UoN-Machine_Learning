{
 "cells": [
  {
   "cell_type": "code",
   "execution_count": 13,
   "metadata": {},
   "outputs": [],
   "source": [
    "import pandas as pd\n",
    "import numpy as np\n",
    "from sklearn.impute import SimpleImputer\n",
    "import matplotlib.pyplot as plt\n",
    "from scipy.stats import pearsonr\n",
    "from sklearn import preprocessing\n",
    "from sklearn.model_selection import train_test_split\n",
    "from sklearn.preprocessing import OrdinalEncoder\n",
    "from sklearn.preprocessing import StandardScaler\n",
    "from sklearn.model_selection import train_test_split\n",
    "from sklearn.ensemble import IsolationForest\n",
    "from sklearn.metrics import balanced_accuracy_score\n",
    "from sklearn.model_selection import GridSearchCV\n",
    "from sklearn.metrics import balanced_accuracy_score\n",
    "from sklearn.metrics import confusion_matrix, ConfusionMatrixDisplay\n",
    "from sklearn.decomposition import PCA\n",
    "from sklearn.svm import SVC\n",
    "from joblib import dump, load"
   ]
  },
  {
   "cell_type": "markdown",
   "metadata": {},
   "source": [
    "### Data Preprocessing & Anomaly Detection"
   ]
  },
  {
   "cell_type": "code",
   "execution_count": 14,
   "metadata": {},
   "outputs": [],
   "source": [
    "def renameColumns(df): # rename the target columns\n",
    "  df = df.rename(columns={'pCR (outcome)': 'PCR', 'RelapseFreeSurvival (outcome)': 'RFS'})\n",
    "  df = df.dropna(subset=['PCR'])\n",
    "  df = df.reset_index(drop=True)\n",
    "  return df\n",
    "\n",
    "def replaceWithNaN(df): # replace 999 values with nan\n",
    "  '''Replace 999 with nan'''\n",
    "  return df.replace(999, np.nan)\n",
    "\n",
    "def getOnlyTumourColumns(df): # get only tumour columns\n",
    "  '''Returns a df with only tumour (original_) columns from the input df.'''\n",
    "  tumour_col_names = []\n",
    "  for i in list(df.columns):\n",
    "    if \"original_\" in i:\n",
    "      tumour_col_names.append(i)\n",
    "  return df[tumour_col_names]\n",
    "\n",
    "def removeAnomalies(df):\n",
    "  # Remove coarseness is 1000000\n",
    "  anomaly_ids = []\n",
    "  for i, data in enumerate(df[\"original_ngtdm_Coarseness\"]):\n",
    "    if data == 1000000:\n",
    "      anomaly_ids.append(df[\"ID\"][i])\n",
    "  df[\"outlier\"] = df[\"ID\"].isin(anomaly_ids)\n",
    "  df = df[df[\"outlier\"] == False]\n",
    "  df = df.drop(\"outlier\", axis=1)\n",
    "  df.reset_index(inplace=True, drop=True)\n",
    "\n",
    "  # Remove items based on isolation forest\n",
    "  df_tumour = getOnlyTumourColumns(df)\n",
    "\n",
    "  clf = IsolationForest(random_state=42)\n",
    "  clf.fit(df_tumour)\n",
    "  anomaly_scores = clf.decision_function(df_tumour)\n",
    "\n",
    "  df[\"outlier_score\"] = anomaly_scores\n",
    "  df = df[df['outlier_score'] >= -0.05] # remove rows with outlier_score < -0.5\n",
    "\n",
    "  df.reset_index(inplace=True, drop=True)\n",
    "  df = df.drop([\"outlier_score\"], axis=1)\n",
    "\n",
    "  return df\n",
    "\n",
    "def group_based_imputation(df, feature, groupby_col='PCR'): # do group based imputation using the mode (most frequent) value\n",
    "    imputer = SimpleImputer(strategy='most_frequent')\n",
    "    df.loc[:, feature] = df.groupby(groupby_col)[feature].transform(lambda x: imputer.fit_transform(x.values.reshape(-1, 1)).flatten())\n",
    "    return df\n",
    "\n",
    "def inputeMissingValues(df):\n",
    "  # group based on PCR groups & fill missing values with mode\n",
    "  missing_cols = ['PgR', 'HER2', 'TrippleNegative', 'ChemoGrade', 'Proliferation', 'HistologyType', 'LNStatus', 'Gene']\n",
    "  for col in missing_cols:\n",
    "      df.loc[df['PCR'].isna() == False] = group_based_imputation(df.loc[df['PCR'].isna() == False], col)\n",
    "  return df\n",
    "\n",
    "def fill_na_median(df_test):\n",
    "  df_test = df_test.replace(999, np.nan)\n",
    "  df_test = df_test.fillna(df_test.median(numeric_only=True))\n",
    "  return df_test\n",
    "\n",
    "\n",
    "df_train = pd.read_excel('TrainDataset2024.xls')\n",
    "df_train = replaceWithNaN(df_train)\n",
    "df_train = renameColumns(df_train)\n",
    "df_train = removeAnomalies(df_train)\n",
    "df_train = inputeMissingValues(df_train)"
   ]
  },
  {
   "cell_type": "markdown",
   "metadata": {},
   "source": [
    "### PCA"
   ]
  },
  {
   "cell_type": "code",
   "execution_count": 15,
   "metadata": {},
   "outputs": [],
   "source": [
    "#reduces tumour columns to 8 principle components\n",
    "def pca(X):\n",
    "    X_tumour = X.drop(X.columns[:11], axis=1)\n",
    "    #print(X_tumour.columns)\n",
    "    X = X.drop(X_tumour.columns,axis=1)\n",
    "    scaler = StandardScaler()\n",
    "    Xs = scaler.fit_transform(X_tumour)\n",
    "    components = 8\n",
    "    pca = PCA(n_components=components)\n",
    "    X_pca = pca.fit_transform(Xs)\n",
    "    pca_df = pd.DataFrame(X_pca)\n",
    "    pca_df.rename(mapper=lambda x: f'pca_{x}', inplace=True, axis=1)\n",
    "    df = X.join(pca_df)\n",
    "    return df, pca, scaler\n",
    "\n",
    "\n",
    "def pca_classification(df):\n",
    "  X = df.drop(['ID', 'PCR', 'RFS'], axis=1)\n",
    "  y = df['PCR']\n",
    "  X_pca, pca_returned, scaler_returned = pca(X)\n",
    "  X_train,X_test,y_train,y_test = train_test_split(X_pca, y, test_size=0.3, random_state=1, stratify=y)\n",
    "  return X_train, X_test, y_train, y_test, pca_returned, scaler_returned\n"
   ]
  },
  {
   "cell_type": "markdown",
   "metadata": {},
   "source": [
    "### SVC Classification Model Training"
   ]
  },
  {
   "cell_type": "code",
   "execution_count": 16,
   "metadata": {},
   "outputs": [
    {
     "name": "stdout",
     "output_type": "stream",
     "text": [
      "Best balanced accuracy with hyperparameter tuning: 0.7333702882483369\n",
      "Best parameters with hyperparameter tuning: {'C': 1.0, 'kernel': 'linear'}\n",
      "Balanced accuracy score on Test Set: 0.807\n"
     ]
    },
    {
     "data": {
      "image/png": "[encoded data removed]",
      "text/plain": [
       "<Figure size 640x480 with 2 Axes>"
      ]
     },
     "metadata": {},
     "output_type": "display_data"
    },
    {
     "data": {
      "text/plain": [
       "['svc_classification.joblib']"
      ]
     },
     "execution_count": 16,
     "metadata": {},
     "output_type": "execute_result"
    }
   ],
   "source": [
    "X_train, X_test, y_train, y_test, pca_returned, scaler_returned = pca_classification(df_train)\n",
    "param_grid = { # parameters for SVC to use in grid search\n",
    "    'C': np.arange(0.1,1.5,0.1),\n",
    "    'kernel': ['linear','rbf','sigmoid']\n",
    "}\n",
    "\n",
    "grid_search = GridSearchCV(SVC(gamma='auto', degree=3),\n",
    "                           param_grid, cv=5, scoring='balanced_accuracy', n_jobs=-1, verbose=0)\n",
    "grid_search.fit(X_train, y_train)\n",
    "\n",
    "best_svc_clf = grid_search.best_estimator_\n",
    "best_params = grid_search.best_params_\n",
    "print(\"Best balanced accuracy with hyperparameter tuning:\", grid_search.best_score_)\n",
    "print(\"Best parameters with hyperparameter tuning:\", best_params)\n",
    "\n",
    "best_svc_clf.fit(X_train, y_train)\n",
    "y_pred = best_svc_clf.predict(X_test)\n",
    "balanced_acc = balanced_accuracy_score(y_test, y_pred)\n",
    "print(f\"Balanced accuracy score on Test Set: {round(balanced_acc, 3)}\")\n",
    "\n",
    "conf_matrix = confusion_matrix(y_test, y_pred)\n",
    "disp = ConfusionMatrixDisplay(confusion_matrix=conf_matrix)\n",
    "disp.plot(cmap='Blues')\n",
    "plt.title(\"Confusion Matrix (SVC)\")\n",
    "plt.show()\n",
    "\n",
    "dump(best_svc_clf, 'svc_classification.joblib')\n"
   ]
  },
  {
   "cell_type": "markdown",
   "metadata": {},
   "source": [
    "### Final Test PCR Prediction"
   ]
  },
  {
   "cell_type": "code",
   "execution_count": 10,
   "metadata": {},
   "outputs": [],
   "source": [
    "# FINAL TEST\n",
    "\n",
    "df_test = pd.read_excel('FinalTestDataset2024.xls')\n",
    "df_test = fill_na_median(df_test) # fill missing values with median\n",
    "df_test_tumour = getOnlyTumourColumns(df_test)\n",
    "df_test_clinical = df_test.drop(df_test_tumour.columns, axis=1)\n",
    "ids = df_test_clinical['ID']\n",
    "X_test_tumour = scaler_returned.transform(df_test_tumour)\n",
    "X_test_pca = pca_returned.transform(X_test_tumour)\n",
    "tumour_test_df = pd.DataFrame(X_test_pca)\n",
    "tumour_test_df.rename(mapper=lambda x: f'pca_{x}', inplace=True, axis=1)\n",
    "df_test = df_test_clinical.join(tumour_test_df)\n",
    "df_test.drop('ID', axis=1, inplace=True)\n",
    "\n",
    "pred_pcr = best_svc_clf.predict(df_test)\n",
    "\n",
    "pcr_results = pd.DataFrame({'ID': ids, 'PCR': pred_pcr})\n",
    "\n",
    "pcr_results.to_csv('PCRPrediction.csv', index=False) # save the predictions\n"
   ]
  },
  {
   "cell_type": "code",
   "execution_count": null,
   "metadata": {},
   "outputs": [],
   "source": []
  }
 ],
 "metadata": {
  "kernelspec": {
   "display_name": "Python 3",
   "language": "python",
   "name": "python3"
  },
  "language_info": {
   "codemirror_mode": {
    "name": "ipython",
    "version": 3
   },
   "file_extension": ".py",
   "mimetype": "text/x-python",
   "name": "python",
   "nbconvert_exporter": "python",
   "pygments_lexer": "ipython3",
   "version": "3.12.4"
  }
 },
 "nbformat": 4,
 "nbformat_minor": 2
}
